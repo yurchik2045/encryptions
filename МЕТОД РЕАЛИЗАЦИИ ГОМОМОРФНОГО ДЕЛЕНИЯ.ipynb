{
 "cells": [
  {
   "cell_type": "code",
   "execution_count": 1,
   "metadata": {},
   "outputs": [],
   "source": [
    "P = 997\n",
    "r = 5\n",
    "s = 11\n",
    "e = 2\n",
    "a = 4\n",
    "b = 2\n",
    "Ad = 1\n",
    "Bd = 1"
   ]
  },
  {
   "cell_type": "code",
   "execution_count": 2,
   "metadata": {},
   "outputs": [
    {
     "name": "stdout",
     "output_type": "stream",
     "text": [
      "5011\n",
      "5009\n"
     ]
    }
   ],
   "source": [
    "C1 = P * r + s * e + a\n",
    "C2 = P * r + s * e + b\n",
    "print(C1)\n",
    "print(C2)"
   ]
  },
  {
   "cell_type": "code",
   "execution_count": 3,
   "metadata": {},
   "outputs": [],
   "source": [
    "Adiv = C1\n",
    "Bdiv = C2"
   ]
  },
  {
   "cell_type": "code",
   "execution_count": 4,
   "metadata": {},
   "outputs": [
    {
     "name": "stdout",
     "output_type": "stream",
     "text": [
      "A.dividend = 5011\n",
      "A.divider = 1\n",
      "\n"
     ]
    }
   ],
   "source": [
    "print(f\"\"\"A.dividend = {Adiv}\n",
    "A.divider = {Ad}\n",
    "\"\"\")"
   ]
  },
  {
   "cell_type": "code",
   "execution_count": 5,
   "metadata": {},
   "outputs": [
    {
     "name": "stdout",
     "output_type": "stream",
     "text": [
      "B.dividend = 5009\n",
      "B.divider = 1\n",
      "\n"
     ]
    }
   ],
   "source": [
    "print(f\"\"\"B.dividend = {Bdiv}\n",
    "B.divider = {Bd}\n",
    "\"\"\")"
   ]
  },
  {
   "cell_type": "code",
   "execution_count": 6,
   "metadata": {},
   "outputs": [],
   "source": [
    "Cdiv = Adiv * Bd + Bdiv * Ad\n",
    "Cd = Ad * Bd"
   ]
  },
  {
   "cell_type": "code",
   "execution_count": 7,
   "metadata": {},
   "outputs": [
    {
     "name": "stdout",
     "output_type": "stream",
     "text": [
      "C.dividend = 10020\n",
      "C.divider = 1\n",
      "\n"
     ]
    }
   ],
   "source": [
    "print(f\"\"\"C.dividend = {Cdiv}\n",
    "C.divider = {Cd}\n",
    "\"\"\")"
   ]
  },
  {
   "cell_type": "code",
   "execution_count": 8,
   "metadata": {},
   "outputs": [
    {
     "name": "stdout",
     "output_type": "stream",
     "text": [
      "6\n"
     ]
    }
   ],
   "source": [
    "m = (Cdiv % P % s)//(Cd % P % s)\n",
    "print(m)"
   ]
  },
  {
   "cell_type": "code",
   "execution_count": 9,
   "metadata": {},
   "outputs": [],
   "source": [
    "Cdiv = Adiv * Bd - Bdiv * Ad\n",
    "Cd = Ad * Bd"
   ]
  },
  {
   "cell_type": "code",
   "execution_count": 10,
   "metadata": {},
   "outputs": [
    {
     "name": "stdout",
     "output_type": "stream",
     "text": [
      "C.dividend = 2\n",
      "C.divider = 1\n",
      "\n"
     ]
    }
   ],
   "source": [
    "print(f\"\"\"C.dividend = {Cdiv}\n",
    "C.divider = {Cd}\n",
    "\"\"\")"
   ]
  },
  {
   "cell_type": "code",
   "execution_count": 11,
   "metadata": {},
   "outputs": [
    {
     "name": "stdout",
     "output_type": "stream",
     "text": [
      "2\n"
     ]
    }
   ],
   "source": [
    "m = (Cdiv % P % s)//(Cd % P % s)\n",
    "print(m)"
   ]
  },
  {
   "cell_type": "code",
   "execution_count": 12,
   "metadata": {},
   "outputs": [],
   "source": [
    "Cdiv = Adiv * Bd * Bdiv * Ad\n",
    "Cd = Ad * Bd"
   ]
  },
  {
   "cell_type": "code",
   "execution_count": 13,
   "metadata": {},
   "outputs": [
    {
     "name": "stdout",
     "output_type": "stream",
     "text": [
      "C.dividend = 25100099\n",
      "C.divider = 1\n",
      "\n"
     ]
    }
   ],
   "source": [
    "print(f\"\"\"C.dividend = {Cdiv}\n",
    "C.divider = {Cd}\n",
    "\"\"\")"
   ]
  },
  {
   "cell_type": "code",
   "execution_count": 14,
   "metadata": {},
   "outputs": [
    {
     "name": "stdout",
     "output_type": "stream",
     "text": [
      "8\n"
     ]
    }
   ],
   "source": [
    "m = (Cdiv % P % s)//(Cd % P % s)\n",
    "print(m)"
   ]
  },
  {
   "cell_type": "code",
   "execution_count": 15,
   "metadata": {},
   "outputs": [],
   "source": [
    "Cdiv = Adiv * Bd \n",
    "Cd = Ad * Bdiv"
   ]
  },
  {
   "cell_type": "code",
   "execution_count": 16,
   "metadata": {},
   "outputs": [
    {
     "name": "stdout",
     "output_type": "stream",
     "text": [
      "C.dividend = 5011\n",
      "C.divider = 5009\n",
      "\n"
     ]
    }
   ],
   "source": [
    "print(f\"\"\"C.dividend = {Cdiv}\n",
    "C.divider = {Cd}\n",
    "\"\"\")"
   ]
  },
  {
   "cell_type": "code",
   "execution_count": 17,
   "metadata": {},
   "outputs": [
    {
     "name": "stdout",
     "output_type": "stream",
     "text": [
      "2\n"
     ]
    }
   ],
   "source": [
    "m = (Cdiv % P % s)//(Cd % P % s)\n",
    "print(m)"
   ]
  },
  {
   "cell_type": "code",
   "execution_count": null,
   "metadata": {},
   "outputs": [],
   "source": []
  }
 ],
 "metadata": {
  "kernelspec": {
   "display_name": "Python 3",
   "language": "python",
   "name": "python3"
  },
  "language_info": {
   "codemirror_mode": {
    "name": "ipython",
    "version": 3
   },
   "file_extension": ".py",
   "mimetype": "text/x-python",
   "name": "python",
   "nbconvert_exporter": "python",
   "pygments_lexer": "ipython3",
   "version": "3.8.3"
  }
 },
 "nbformat": 4,
 "nbformat_minor": 4
}
